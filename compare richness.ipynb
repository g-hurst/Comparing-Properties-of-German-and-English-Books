{
 "cells": [
  {
   "cell_type": "markdown",
   "metadata": {},
   "source": []
  },
  {
   "cell_type": "markdown",
   "metadata": {},
   "source": [
    "### Project Overview:\n"
   ]
  },
  {
   "cell_type": "code",
   "execution_count": 16,
   "metadata": {},
   "outputs": [],
   "source": [
    "import os\n",
    "import re\n",
    "from matplotlib import pyplot as plt\n",
    "from lexicalrichness import LexicalRichness\n",
    "import pandas as pd"
   ]
  },
  {
   "cell_type": "code",
   "execution_count": 17,
   "metadata": {},
   "outputs": [],
   "source": [
    "def load_book(filename: str) -> str:\n",
    "    '''\n",
    "    Takes a filename of a txt file from project gutenberg and strips the text from the file.\n",
    "    '''\n",
    "    lines = [l.rstrip() for l in open(filename, 'r', encoding='utf8')]\n",
    "    \n",
    "    exp = re.compile(r'^\\*\\*\\* (START|END).*PROJECT GUTENBERG.*\\*\\*\\*$')\n",
    "    start, end = [lines.index(l) for l in lines if exp.match(l)]\n",
    "    lines = lines[start+1:end]\n",
    "    text =  ' '.join(lines)\n",
    "    return text"
   ]
  },
  {
   "cell_type": "markdown",
   "metadata": {},
   "source": [
    "### Collect The Book Paths and Create a Dictionary"
   ]
  },
  {
   "cell_type": "code",
   "execution_count": 18,
   "metadata": {},
   "outputs": [
    {
     "name": "stdout",
     "output_type": "stream",
     "text": [
      "The following books have been collected: \n",
      "\t  # title                          English    French     German    \n",
      "\t  1 Oliver Twist Charles Di...     1          1          1         \n",
      "\t  2 Moby-Dick Herman Melvil...     1          0          0         \n",
      "\t  3 The Call of the Wild Ja...     1          0          0         \n",
      "\t  4 The Great Gatsby F Scot...     1          0          0         \n",
      "\t  5 Winnie-the-Pooh A A Mil...     1          0          0         \n",
      "\t  6 Alices Adventures in Wo...     1          1          1         \n",
      "\t  7 Treasure Island Robert ...     1          1          1         \n",
      "\t  8 Pride and Prejudice Jan...     1          0          0         \n",
      "\t  9 A Christmas Carol Charl...     1          1          1         \n",
      "\t 10 Dracula Bram Stoker            1          0          0         \n",
      "\t 11 Frankenstein Mary W She...     1          1          0         \n"
     ]
    }
   ],
   "source": [
    "books_dir = 'books'\n",
    "engl_books = os.listdir(books_dir + '/English')\n",
    "germ_books = os.listdir(books_dir + '/German')\n",
    "fren_books = os.listdir(books_dir + '/French')\n",
    "\n",
    "book_paths = {'English':[], 'French':[], 'German':[]}\n",
    "print('The following books have been collected: ')\n",
    "print('\\t{:>3s} {:<30s} {:<10s} {:<10s} {:<10s}'.format('#', 'title', 'English', 'French', 'German'))\n",
    "for i, book in enumerate(set(engl_books) | set(germ_books) | set(fren_books)):\n",
    "    title = book.rstrip('.txt')\n",
    "    if len(title) > 22: title = title[:23] + '...'\n",
    "    in_engl, in_fren, in_germ = book in engl_books, book in fren_books, book in germ_books\n",
    "    print('\\t{:>3d} {:<30s} {:<10b} {:<10b} {:<10b}'.format(i+1, title, in_engl, in_fren, in_germ))\n",
    "    if in_engl:\n",
    "        book_paths['English'].append(books_dir + '/English/' + book)\n",
    "    if in_fren:\n",
    "        book_paths['French'].append(books_dir + '/French/' + book)\n",
    "    if in_germ:\n",
    "        book_paths['German'].append(books_dir + '/German/' + book)"
   ]
  },
  {
   "cell_type": "code",
   "execution_count": 23,
   "metadata": {},
   "outputs": [
    {
     "name": "stdout",
     "output_type": "stream",
     "text": [
      "                                                 path language   words  terms\n",
      "0      books/English/Oliver Twist Charles Dickens.txt  English  162295  11895\n",
      "1         books/English/Moby-Dick Herman Melville.txt  English  214483  20118\n",
      "2   books/English/The Call of the Wild Jack London...  English   32003   4962\n",
      "3   books/English/The Great Gatsby F Scott Fitzger...  English   49513   6644\n",
      "4         books/English/Winnie-the-Pooh A A Milne.txt  English   23451   1939\n",
      "5   books/English/Alices Adventures in Wonderland ...  English   27587   3048\n",
      "6   books/English/Treasure Island Robert Louis Ste...  English   69409   6878\n",
      "7   books/English/Pride and Prejudice Jane Austen.txt  English  123394   6973\n",
      "8   books/English/A Christmas Carol Charles Dicken...  English   28956   4384\n",
      "9               books/English/Dracula Bram Stoker.txt  English  161794  10169\n",
      "10      books/English/Frankenstein Mary W Shelley.txt  English   78111   7406\n",
      "11      books/French/Oliver Twist Charles Dickens.txt   French  168577  12359\n",
      "12  books/French/Alices Adventures in Wonderland L...   French   28044   3808\n",
      "13  books/French/Treasure Island Robert Louis Stev...   French   89794  11230\n",
      "14  books/French/A Christmas Carol Charles Dickens...   French   34776   5687\n",
      "15       books/French/Frankenstein Mary W Shelley.txt   French   26889   4712\n",
      "16      books/German/Oliver Twist Charles Dickens.txt   German  122985  15008\n",
      "17  books/German/Alices Adventures in Wonderland L...   German   26619   4107\n",
      "18  books/German/Treasure Island Robert Louis Stev...   German   65954   9357\n",
      "19  books/German/A Christmas Carol Charles Dickens...   German   27851   5281\n"
     ]
    }
   ],
   "source": [
    "col_names = ['path', 'language', 'words', 'terms']\n",
    "df = pd.DataFrame(columns=col_names)\n",
    "for k in book_paths.keys():\n",
    "    for path in book_paths[k]:\n",
    "        text = load_book(path)\n",
    "        lex = LexicalRichness(text)\n",
    "        df.loc[len(df.index)] = [path, k, lex.words, lex.terms]\n",
    "\n",
    "    \n",
    "print(df)"
   ]
  },
  {
   "cell_type": "code",
   "execution_count": null,
   "metadata": {},
   "outputs": [],
   "source": []
  }
 ],
 "metadata": {
  "kernelspec": {
   "display_name": "Python 3.10.0 64-bit",
   "language": "python",
   "name": "python3"
  },
  "language_info": {
   "codemirror_mode": {
    "name": "ipython",
    "version": 3
   },
   "file_extension": ".py",
   "mimetype": "text/x-python",
   "name": "python",
   "nbconvert_exporter": "python",
   "pygments_lexer": "ipython3",
   "version": "3.10.0"
  },
  "orig_nbformat": 4,
  "vscode": {
   "interpreter": {
    "hash": "f724423b8904b990b981f96a08490d5e339c69dc8b700055867f43ddf0a1601b"
   }
  }
 },
 "nbformat": 4,
 "nbformat_minor": 2
}
